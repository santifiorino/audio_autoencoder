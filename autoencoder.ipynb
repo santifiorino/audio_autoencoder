{
  "cells": [
    {
      "cell_type": "markdown",
      "metadata": {
        "id": "hRuJcSnOikH3"
      },
      "source": [
        "# PyTorch Audio Autoencoder"
      ]
    },
    {
      "cell_type": "code",
      "execution_count": null,
      "metadata": {
        "id": "9MDxCFxwiPU7"
      },
      "outputs": [],
      "source": [
        "# Numbers\n",
        "import numpy as np\n",
        "\n",
        "# Visualization\n",
        "import matplotlib.pyplot as plt\n",
        "from IPython.display import Image, Audio, HTML\n",
        "import librosa.display\n",
        "\n",
        "# Machine learning\n",
        "import torch\n",
        "import torchaudio.transforms as T\n",
        "from sklearn.model_selection import train_test_split\n",
        "from torch import nn\n",
        "import pytorch_lightning as pl\n",
        "from torch.utils.data import DataLoader, random_split, TensorDataset, DataLoader\n",
        "\n",
        "# Audio\n",
        "import torchaudio\n",
        "import librosa"
      ]
    },
    {
      "cell_type": "markdown",
      "metadata": {
        "id": "uQ6kN32Yi8L1"
      },
      "source": [
        "## Autoencoders\n",
        "Encoder\n",
        "\n",
        "$Z = f(X)$\n",
        "\n",
        "$Z$ = Latent space\n",
        "\n",
        "Decoder\n",
        "\n",
        "$X = f^{-1}(Z)$"
      ]
    },
    {
      "cell_type": "markdown",
      "metadata": {
        "id": "6t5mOGZWmSbq"
      },
      "source": [
        "## Short-Time Fourier Transform (STFT)\n",
        "<img src=\"https://www.researchgate.net/publication/346243843/figure/fig1/AS:961807523000322@1606324191138/Short-time-Fourier-transform-STFT-overview.png\" width=\"500px\"/>"
      ]
    },
    {
      "cell_type": "code",
      "execution_count": null,
      "metadata": {
        "colab": {
          "base_uri": "https://localhost:8080/"
        },
        "id": "Od5LtpjwiPU-",
        "outputId": "70a63f8c-a579-481d-9b9e-afa572dcedc5"
      },
      "outputs": [],
      "source": [
        "Sclip = -60\n",
        "hop_length_ms = 20\n",
        "duration = 120 # seconds\n",
        "sample_rate = 22050 # Hz\n",
        "\n",
        "hop_length = int(sample_rate * hop_length_ms / 1000)\n",
        "win_length = 4 * hop_length\n",
        "\n",
        "X = []\n",
        "y = []\n",
        "phases = []\n",
        "\n",
        "# Eventually get all the files in 'wavs' dir\n",
        "x, sr = librosa.load(\"wavs/audio.wav\", sr=sample_rate, mono=True, duration=duration)\n",
        "x = np.trim_zeros(x)\n",
        "F = librosa.stft(x, n_fft=win_length, hop_length=hop_length).T\n",
        "phases.append(np.angle(F))\n",
        "S = 10*np.log10(np.abs(F)**2)\n",
        "S = S.clip(Sclip, None)-Sclip\n",
        "y.append(np.ones(S.shape[0])*0)\n",
        "X.append(S)\n",
        "\n",
        "phases = np.vstack(phases)\n",
        "X = np.vstack(X)\n",
        "X_max = X.max()\n",
        "X = X / X_max\n",
        "y = np.hstack(y)"
      ]
    },
    {
      "cell_type": "code",
      "execution_count": null,
      "metadata": {
        "colab": {
          "base_uri": "https://localhost:8080/"
        },
        "id": "ULZmYVrGiPU_",
        "outputId": "b2cc0d99-8645-44a9-8b26-5711950f088a"
      },
      "outputs": [],
      "source": [
        "print('Win length:', win_length,', Hop length:', hop_length)\n",
        "print('Data shape:', X.shape)\n",
        "print('Length min:', X.shape[0]*hop_length_ms/1000/60)\n",
        "n_features = X.shape[1]"
      ]
    },
    {
      "cell_type": "code",
      "execution_count": null,
      "metadata": {
        "colab": {
          "base_uri": "https://localhost:8080/",
          "height": 279
        },
        "id": "_CNcKruwiPU_",
        "outputId": "795d6ab6-ed78-443a-85d2-2f545412667e"
      },
      "outputs": [],
      "source": [
        "plt.figure(figsize=(14, 4))\n",
        "librosa.display.specshow(X.T, y_axis='linear', x_axis='time', hop_length=hop_length);"
      ]
    },
    {
      "cell_type": "code",
      "execution_count": null,
      "metadata": {
        "colab": {
          "base_uri": "https://localhost:8080/",
          "height": 433
        },
        "id": "M--q8UiiiPVA",
        "outputId": "8944f7c8-e3dc-4763-a3a7-dbcf6cbf5660"
      },
      "outputs": [],
      "source": [
        "X_ = np.sqrt(10**((X*X_max+Sclip)/10))*np.exp(1j*phases)\n",
        "x_ = librosa.istft(X_.T, hop_length=hop_length, win_length=win_length)\n",
        "\n",
        "plt.plot(x_)\n",
        "display('Fase original')\n",
        "display(Audio(x_,rate=sr))\n",
        "\n",
        "phases_ = np.random.rand(*X.shape)*2*np.pi\n",
        "X_ = np.sqrt(10**((X*X_max+Sclip)/10))*np.exp(1j*phases_)\n",
        "x_ = librosa.istft(X_.T,hop_length=hop_length, win_length=win_length)\n",
        "\n",
        "display('Fase random')\n",
        "display(Audio(x_,rate=sr))"
      ]
    },
    {
      "cell_type": "code",
      "execution_count": null,
      "metadata": {
        "colab": {
          "base_uri": "https://localhost:8080/"
        },
        "id": "3S9p3YVbiPVA",
        "outputId": "4c764a01-62b2-4f5d-ff05-0f0b50f5c3fe"
      },
      "outputs": [],
      "source": [
        "X_train, X_val, y_train, y_val = train_test_split(X, y,  test_size=0.05, shuffle=True)\n",
        "print('Length mins:', X_train.shape[0]*hop_length_ms/1000/60)"
      ]
    },
    {
      "cell_type": "code",
      "execution_count": null,
      "metadata": {},
      "outputs": [],
      "source": [
        "layers_size = [883, 512, 256, 128, 64, 32, 16, 8]\n",
        "class Encoder(nn.Module):\n",
        "    def __init__(self):\n",
        "        super().__init__()\n",
        "        layers = []\n",
        "        for i in range(len(layers_size)-1):\n",
        "            layers.append(nn.Linear(layers_size[i], layers_size[i+1]))\n",
        "            layers.append(nn.BatchNorm1d(layers_size[i+1]))\n",
        "            layers.append(nn.ELU())\n",
        "        self.layers = nn.Sequential(*layers)\n",
        "\n",
        "    def forward(self, x):\n",
        "        return self.layers(x)"
      ]
    },
    {
      "cell_type": "code",
      "execution_count": null,
      "metadata": {},
      "outputs": [],
      "source": [
        "class Decoder(nn.Module):\n",
        "    def __init__(self):\n",
        "        super().__init__()\n",
        "        layers = []\n",
        "        for i in range(len(layers_size)-1, 1, -1):\n",
        "            layers.append(nn.Linear(layers_size[i], layers_size[i-1]))\n",
        "            layers.append(nn.BatchNorm1d(layers_size[i-1]))\n",
        "            layers.append(nn.ELU())\n",
        "        layers.append(nn.Linear(layers_size[1], layers_size[0]))\n",
        "        layers.append(nn.BatchNorm1d(layers_size[0]))\n",
        "        layers.append(nn.ReLU())\n",
        "        self.layers = nn.Sequential(*layers)\n",
        "\n",
        "    def forward(self, x):\n",
        "        return self.layers(x)"
      ]
    },
    {
      "cell_type": "code",
      "execution_count": null,
      "metadata": {},
      "outputs": [],
      "source": [
        "class AutoEncoder(pl.LightningModule):\n",
        "    def __init__(self):\n",
        "        super().__init__()\n",
        "        self.encoder = Encoder()\n",
        "        self.decoder = Decoder()\n",
        "\n",
        "    def forward(self, x):\n",
        "        x = self.encoder(x)\n",
        "        x = self.decoder(x)\n",
        "        return x\n",
        "\n",
        "    def training_step(self, batch, batch_idx):\n",
        "        x, y = batch\n",
        "        y_hat = self(x)\n",
        "        loss = nn.MSELoss()(y_hat, x)\n",
        "        self.log('train_loss', loss)\n",
        "        return loss\n",
        "\n",
        "    def configure_optimizers(self):\n",
        "        optimizer = torch.optim.Adam(self.parameters(), lr=0.002)\n",
        "        return optimizer\n"
      ]
    },
    {
      "cell_type": "code",
      "execution_count": null,
      "metadata": {
        "colab": {
          "base_uri": "https://localhost:8080/",
          "height": 399,
          "referenced_widgets": [
            "8322b344ba0d48daaaa3ce495f5ac8b5",
            "5cbf5315748249ccbd09d61b976af294",
            "77d92314e716420cb58d3aa3b642adb9",
            "7ccb423fecd54e77bb040e3008dc547a",
            "6a7bc01e110f4a05b7f4434d819534de",
            "f20bfafb2a234a10aa8edb40f412e145",
            "cff9df886d6e4c7595b867f89d924f82",
            "67956790e2aa458bbb88f30ef7d926b2",
            "646232bd0a7d499594a04fbd6a09b171",
            "3f3294223f3843baa1f9a18b879bb8e2",
            "8a6639302bdd489a9ae43a18652bd93c"
          ]
        },
        "id": "Y8ucvyERV_eu",
        "outputId": "95c7801a-2193-4f2f-8bc3-4092e465135b"
      },
      "outputs": [],
      "source": [
        "silence = np.zeros([int(X_train.shape[0]*0.1), X_train.shape[1]])\n",
        "X_train2 = np.vstack([silence, X_train])\n",
        "\n",
        "autoencoder = AutoEncoder()\n",
        "trainer = pl.Trainer(max_epochs=120)\n",
        "dataset = TensorDataset(torch.tensor(X_train2).float(), torch.tensor(X_train2).float())\n",
        "dataloader = DataLoader(dataset, batch_size=512)\n",
        "trainer.fit(model=autoencoder, train_dataloaders=dataloader)"
      ]
    },
    {
      "cell_type": "code",
      "execution_count": null,
      "metadata": {},
      "outputs": [],
      "source": [
        "prediction = autoencoder(torch.tensor(X).float())\n",
        "prediction = prediction.detach().numpy()\n",
        "prediction -= prediction.min()"
      ]
    },
    {
      "cell_type": "code",
      "execution_count": null,
      "metadata": {},
      "outputs": [],
      "source": [
        "plt.figure(figsize=(14, 4))\n",
        "librosa.display.specshow(prediction.T, y_axis='linear', x_axis='time', hop_length=hop_length);"
      ]
    },
    {
      "cell_type": "code",
      "execution_count": null,
      "metadata": {},
      "outputs": [],
      "source": [
        "X_ = np.sqrt(10**((prediction*X_max+Sclip)/10))*np.exp(1j*phases)\n",
        "x_ = librosa.istft(X_.T,hop_length=hop_length, win_length=win_length)\n",
        "display(Audio(x_,rate=sr))"
      ]
    },
    {
      "cell_type": "code",
      "execution_count": null,
      "metadata": {},
      "outputs": [],
      "source": [
        "Z = autoencoder.encoder(torch.tensor(X).float())\n",
        "Z = Z.detach().numpy()\n",
        "plt.figure(figsize=(14, 6))\n",
        "plt.plot(Z+np.arange(Z.shape[1])*5);"
      ]
    }
  ],
  "metadata": {
    "accelerator": "GPU",
    "colab": {
      "collapsed_sections": [],
      "provenance": []
    },
    "gpuClass": "standard",
    "kernelspec": {
      "display_name": "Python 3.9.13 64-bit (microsoft store)",
      "language": "python",
      "name": "python3"
    },
    "language_info": {
      "codemirror_mode": {
        "name": "ipython",
        "version": 3
      },
      "file_extension": ".py",
      "mimetype": "text/x-python",
      "name": "python",
      "nbconvert_exporter": "python",
      "pygments_lexer": "ipython3",
      "version": "3.9.13"
    },
    "vscode": {
      "interpreter": {
        "hash": "36d57e24ff0009f6dfff9160e88229d431cc6ed0063f5cd30ed601367525072e"
      }
    },
    "widgets": {
      "application/vnd.jupyter.widget-state+json": {
        "0e4c46033efc444990daa1546185f1cb": {
          "model_module": "@jupyter-widgets/controls",
          "model_module_version": "1.5.0",
          "model_name": "FloatProgressModel",
          "state": {
            "_dom_classes": [],
            "_model_module": "@jupyter-widgets/controls",
            "_model_module_version": "1.5.0",
            "_model_name": "FloatProgressModel",
            "_view_count": null,
            "_view_module": "@jupyter-widgets/controls",
            "_view_module_version": "1.5.0",
            "_view_name": "ProgressView",
            "bar_style": "success",
            "description": "",
            "description_tooltip": null,
            "layout": "IPY_MODEL_e8bfc85265994aae8a5447e15ff42dae",
            "max": 5720,
            "min": 0,
            "orientation": "horizontal",
            "style": "IPY_MODEL_4f2f8b38dfac42b5b6a41f2372cfc3b3",
            "value": 5720
          }
        },
        "0e81b03c76844abe881ee1c151bab054": {
          "model_module": "@jupyter-widgets/base",
          "model_module_version": "1.2.0",
          "model_name": "LayoutModel",
          "state": {
            "_model_module": "@jupyter-widgets/base",
            "_model_module_version": "1.2.0",
            "_model_name": "LayoutModel",
            "_view_count": null,
            "_view_module": "@jupyter-widgets/base",
            "_view_module_version": "1.2.0",
            "_view_name": "LayoutView",
            "align_content": null,
            "align_items": null,
            "align_self": null,
            "border": null,
            "bottom": null,
            "display": null,
            "flex": null,
            "flex_flow": null,
            "grid_area": null,
            "grid_auto_columns": null,
            "grid_auto_flow": null,
            "grid_auto_rows": null,
            "grid_column": null,
            "grid_gap": null,
            "grid_row": null,
            "grid_template_areas": null,
            "grid_template_columns": null,
            "grid_template_rows": null,
            "height": null,
            "justify_content": null,
            "justify_items": null,
            "left": null,
            "margin": null,
            "max_height": null,
            "max_width": null,
            "min_height": null,
            "min_width": null,
            "object_fit": null,
            "object_position": null,
            "order": null,
            "overflow": null,
            "overflow_x": null,
            "overflow_y": null,
            "padding": null,
            "right": null,
            "top": null,
            "visibility": null,
            "width": null
          }
        },
        "3f3294223f3843baa1f9a18b879bb8e2": {
          "model_module": "@jupyter-widgets/base",
          "model_module_version": "1.2.0",
          "model_name": "LayoutModel",
          "state": {
            "_model_module": "@jupyter-widgets/base",
            "_model_module_version": "1.2.0",
            "_model_name": "LayoutModel",
            "_view_count": null,
            "_view_module": "@jupyter-widgets/base",
            "_view_module_version": "1.2.0",
            "_view_name": "LayoutView",
            "align_content": null,
            "align_items": null,
            "align_self": null,
            "border": null,
            "bottom": null,
            "display": null,
            "flex": null,
            "flex_flow": null,
            "grid_area": null,
            "grid_auto_columns": null,
            "grid_auto_flow": null,
            "grid_auto_rows": null,
            "grid_column": null,
            "grid_gap": null,
            "grid_row": null,
            "grid_template_areas": null,
            "grid_template_columns": null,
            "grid_template_rows": null,
            "height": null,
            "justify_content": null,
            "justify_items": null,
            "left": null,
            "margin": null,
            "max_height": null,
            "max_width": null,
            "min_height": null,
            "min_width": null,
            "object_fit": null,
            "object_position": null,
            "order": null,
            "overflow": null,
            "overflow_x": null,
            "overflow_y": null,
            "padding": null,
            "right": null,
            "top": null,
            "visibility": null,
            "width": null
          }
        },
        "4f2f8b38dfac42b5b6a41f2372cfc3b3": {
          "model_module": "@jupyter-widgets/controls",
          "model_module_version": "1.5.0",
          "model_name": "ProgressStyleModel",
          "state": {
            "_model_module": "@jupyter-widgets/controls",
            "_model_module_version": "1.5.0",
            "_model_name": "ProgressStyleModel",
            "_view_count": null,
            "_view_module": "@jupyter-widgets/base",
            "_view_module_version": "1.2.0",
            "_view_name": "StyleView",
            "bar_color": null,
            "description_width": ""
          }
        },
        "568e9cc279154ef990313d4669e5b70f": {
          "model_module": "@jupyter-widgets/controls",
          "model_module_version": "1.5.0",
          "model_name": "DescriptionStyleModel",
          "state": {
            "_model_module": "@jupyter-widgets/controls",
            "_model_module_version": "1.5.0",
            "_model_name": "DescriptionStyleModel",
            "_view_count": null,
            "_view_module": "@jupyter-widgets/base",
            "_view_module_version": "1.2.0",
            "_view_name": "StyleView",
            "description_width": ""
          }
        },
        "5cbf5315748249ccbd09d61b976af294": {
          "model_module": "@jupyter-widgets/controls",
          "model_module_version": "1.5.0",
          "model_name": "HTMLModel",
          "state": {
            "_dom_classes": [],
            "_model_module": "@jupyter-widgets/controls",
            "_model_module_version": "1.5.0",
            "_model_name": "HTMLModel",
            "_view_count": null,
            "_view_module": "@jupyter-widgets/controls",
            "_view_module_version": "1.5.0",
            "_view_name": "HTMLView",
            "description": "",
            "description_tooltip": null,
            "layout": "IPY_MODEL_f20bfafb2a234a10aa8edb40f412e145",
            "placeholder": "​",
            "style": "IPY_MODEL_cff9df886d6e4c7595b867f89d924f82",
            "value": "Epoch 119: 100%"
          }
        },
        "646232bd0a7d499594a04fbd6a09b171": {
          "model_module": "@jupyter-widgets/controls",
          "model_module_version": "1.5.0",
          "model_name": "ProgressStyleModel",
          "state": {
            "_model_module": "@jupyter-widgets/controls",
            "_model_module_version": "1.5.0",
            "_model_name": "ProgressStyleModel",
            "_view_count": null,
            "_view_module": "@jupyter-widgets/base",
            "_view_module_version": "1.2.0",
            "_view_name": "StyleView",
            "bar_color": null,
            "description_width": ""
          }
        },
        "66880d6392b64cd6acacefeb34b4a3b8": {
          "model_module": "@jupyter-widgets/controls",
          "model_module_version": "1.5.0",
          "model_name": "DescriptionStyleModel",
          "state": {
            "_model_module": "@jupyter-widgets/controls",
            "_model_module_version": "1.5.0",
            "_model_name": "DescriptionStyleModel",
            "_view_count": null,
            "_view_module": "@jupyter-widgets/base",
            "_view_module_version": "1.2.0",
            "_view_name": "StyleView",
            "description_width": ""
          }
        },
        "67956790e2aa458bbb88f30ef7d926b2": {
          "model_module": "@jupyter-widgets/base",
          "model_module_version": "1.2.0",
          "model_name": "LayoutModel",
          "state": {
            "_model_module": "@jupyter-widgets/base",
            "_model_module_version": "1.2.0",
            "_model_name": "LayoutModel",
            "_view_count": null,
            "_view_module": "@jupyter-widgets/base",
            "_view_module_version": "1.2.0",
            "_view_name": "LayoutView",
            "align_content": null,
            "align_items": null,
            "align_self": null,
            "border": null,
            "bottom": null,
            "display": null,
            "flex": "2",
            "flex_flow": null,
            "grid_area": null,
            "grid_auto_columns": null,
            "grid_auto_flow": null,
            "grid_auto_rows": null,
            "grid_column": null,
            "grid_gap": null,
            "grid_row": null,
            "grid_template_areas": null,
            "grid_template_columns": null,
            "grid_template_rows": null,
            "height": null,
            "justify_content": null,
            "justify_items": null,
            "left": null,
            "margin": null,
            "max_height": null,
            "max_width": null,
            "min_height": null,
            "min_width": null,
            "object_fit": null,
            "object_position": null,
            "order": null,
            "overflow": null,
            "overflow_x": null,
            "overflow_y": null,
            "padding": null,
            "right": null,
            "top": null,
            "visibility": null,
            "width": null
          }
        },
        "6a7bc01e110f4a05b7f4434d819534de": {
          "model_module": "@jupyter-widgets/base",
          "model_module_version": "1.2.0",
          "model_name": "LayoutModel",
          "state": {
            "_model_module": "@jupyter-widgets/base",
            "_model_module_version": "1.2.0",
            "_model_name": "LayoutModel",
            "_view_count": null,
            "_view_module": "@jupyter-widgets/base",
            "_view_module_version": "1.2.0",
            "_view_name": "LayoutView",
            "align_content": null,
            "align_items": null,
            "align_self": null,
            "border": null,
            "bottom": null,
            "display": "inline-flex",
            "flex": null,
            "flex_flow": "row wrap",
            "grid_area": null,
            "grid_auto_columns": null,
            "grid_auto_flow": null,
            "grid_auto_rows": null,
            "grid_column": null,
            "grid_gap": null,
            "grid_row": null,
            "grid_template_areas": null,
            "grid_template_columns": null,
            "grid_template_rows": null,
            "height": null,
            "justify_content": null,
            "justify_items": null,
            "left": null,
            "margin": null,
            "max_height": null,
            "max_width": null,
            "min_height": null,
            "min_width": null,
            "object_fit": null,
            "object_position": null,
            "order": null,
            "overflow": null,
            "overflow_x": null,
            "overflow_y": null,
            "padding": null,
            "right": null,
            "top": null,
            "visibility": null,
            "width": "100%"
          }
        },
        "77d92314e716420cb58d3aa3b642adb9": {
          "model_module": "@jupyter-widgets/controls",
          "model_module_version": "1.5.0",
          "model_name": "FloatProgressModel",
          "state": {
            "_dom_classes": [],
            "_model_module": "@jupyter-widgets/controls",
            "_model_module_version": "1.5.0",
            "_model_name": "FloatProgressModel",
            "_view_count": null,
            "_view_module": "@jupyter-widgets/controls",
            "_view_module_version": "1.5.0",
            "_view_name": "ProgressView",
            "bar_style": "success",
            "description": "",
            "description_tooltip": null,
            "layout": "IPY_MODEL_67956790e2aa458bbb88f30ef7d926b2",
            "max": 12,
            "min": 0,
            "orientation": "horizontal",
            "style": "IPY_MODEL_646232bd0a7d499594a04fbd6a09b171",
            "value": 12
          }
        },
        "79f80c3def4e4bcd910ccb9b3b68fbe7": {
          "model_module": "@jupyter-widgets/base",
          "model_module_version": "1.2.0",
          "model_name": "LayoutModel",
          "state": {
            "_model_module": "@jupyter-widgets/base",
            "_model_module_version": "1.2.0",
            "_model_name": "LayoutModel",
            "_view_count": null,
            "_view_module": "@jupyter-widgets/base",
            "_view_module_version": "1.2.0",
            "_view_name": "LayoutView",
            "align_content": null,
            "align_items": null,
            "align_self": null,
            "border": null,
            "bottom": null,
            "display": null,
            "flex": null,
            "flex_flow": null,
            "grid_area": null,
            "grid_auto_columns": null,
            "grid_auto_flow": null,
            "grid_auto_rows": null,
            "grid_column": null,
            "grid_gap": null,
            "grid_row": null,
            "grid_template_areas": null,
            "grid_template_columns": null,
            "grid_template_rows": null,
            "height": null,
            "justify_content": null,
            "justify_items": null,
            "left": null,
            "margin": null,
            "max_height": null,
            "max_width": null,
            "min_height": null,
            "min_width": null,
            "object_fit": null,
            "object_position": null,
            "order": null,
            "overflow": null,
            "overflow_x": null,
            "overflow_y": null,
            "padding": null,
            "right": null,
            "top": null,
            "visibility": null,
            "width": null
          }
        },
        "7ccb423fecd54e77bb040e3008dc547a": {
          "model_module": "@jupyter-widgets/controls",
          "model_module_version": "1.5.0",
          "model_name": "HTMLModel",
          "state": {
            "_dom_classes": [],
            "_model_module": "@jupyter-widgets/controls",
            "_model_module_version": "1.5.0",
            "_model_name": "HTMLModel",
            "_view_count": null,
            "_view_module": "@jupyter-widgets/controls",
            "_view_module_version": "1.5.0",
            "_view_name": "HTMLView",
            "description": "",
            "description_tooltip": null,
            "layout": "IPY_MODEL_3f3294223f3843baa1f9a18b879bb8e2",
            "placeholder": "​",
            "style": "IPY_MODEL_8a6639302bdd489a9ae43a18652bd93c",
            "value": " 12/12 [00:00&lt;00:00, 38.64it/s, loss=0.0054, v_num=0]"
          }
        },
        "8322b344ba0d48daaaa3ce495f5ac8b5": {
          "model_module": "@jupyter-widgets/controls",
          "model_module_version": "1.5.0",
          "model_name": "HBoxModel",
          "state": {
            "_dom_classes": [],
            "_model_module": "@jupyter-widgets/controls",
            "_model_module_version": "1.5.0",
            "_model_name": "HBoxModel",
            "_view_count": null,
            "_view_module": "@jupyter-widgets/controls",
            "_view_module_version": "1.5.0",
            "_view_name": "HBoxView",
            "box_style": "",
            "children": [
              "IPY_MODEL_5cbf5315748249ccbd09d61b976af294",
              "IPY_MODEL_77d92314e716420cb58d3aa3b642adb9",
              "IPY_MODEL_7ccb423fecd54e77bb040e3008dc547a"
            ],
            "layout": "IPY_MODEL_6a7bc01e110f4a05b7f4434d819534de"
          }
        },
        "8a6639302bdd489a9ae43a18652bd93c": {
          "model_module": "@jupyter-widgets/controls",
          "model_module_version": "1.5.0",
          "model_name": "DescriptionStyleModel",
          "state": {
            "_model_module": "@jupyter-widgets/controls",
            "_model_module_version": "1.5.0",
            "_model_name": "DescriptionStyleModel",
            "_view_count": null,
            "_view_module": "@jupyter-widgets/base",
            "_view_module_version": "1.2.0",
            "_view_name": "StyleView",
            "description_width": ""
          }
        },
        "8e3f323e57f04fb68d34b15a6a2f071a": {
          "model_module": "@jupyter-widgets/base",
          "model_module_version": "1.2.0",
          "model_name": "LayoutModel",
          "state": {
            "_model_module": "@jupyter-widgets/base",
            "_model_module_version": "1.2.0",
            "_model_name": "LayoutModel",
            "_view_count": null,
            "_view_module": "@jupyter-widgets/base",
            "_view_module_version": "1.2.0",
            "_view_name": "LayoutView",
            "align_content": null,
            "align_items": null,
            "align_self": null,
            "border": null,
            "bottom": null,
            "display": "inline-flex",
            "flex": null,
            "flex_flow": "row wrap",
            "grid_area": null,
            "grid_auto_columns": null,
            "grid_auto_flow": null,
            "grid_auto_rows": null,
            "grid_column": null,
            "grid_gap": null,
            "grid_row": null,
            "grid_template_areas": null,
            "grid_template_columns": null,
            "grid_template_rows": null,
            "height": null,
            "justify_content": null,
            "justify_items": null,
            "left": null,
            "margin": null,
            "max_height": null,
            "max_width": null,
            "min_height": null,
            "min_width": null,
            "object_fit": null,
            "object_position": null,
            "order": null,
            "overflow": null,
            "overflow_x": null,
            "overflow_y": null,
            "padding": null,
            "right": null,
            "top": null,
            "visibility": null,
            "width": "100%"
          }
        },
        "9b1843d28c5a41be97df28b3b037e953": {
          "model_module": "@jupyter-widgets/controls",
          "model_module_version": "1.5.0",
          "model_name": "HTMLModel",
          "state": {
            "_dom_classes": [],
            "_model_module": "@jupyter-widgets/controls",
            "_model_module_version": "1.5.0",
            "_model_name": "HTMLModel",
            "_view_count": null,
            "_view_module": "@jupyter-widgets/controls",
            "_view_module_version": "1.5.0",
            "_view_name": "HTMLView",
            "description": "",
            "description_tooltip": null,
            "layout": "IPY_MODEL_79f80c3def4e4bcd910ccb9b3b68fbe7",
            "placeholder": "​",
            "style": "IPY_MODEL_66880d6392b64cd6acacefeb34b4a3b8",
            "value": " 5720/5720 [00:36&lt;00:00, 157.32it/s]"
          }
        },
        "cda6a0508f854663a437e9ffd8136d1b": {
          "model_module": "@jupyter-widgets/controls",
          "model_module_version": "1.5.0",
          "model_name": "HTMLModel",
          "state": {
            "_dom_classes": [],
            "_model_module": "@jupyter-widgets/controls",
            "_model_module_version": "1.5.0",
            "_model_name": "HTMLModel",
            "_view_count": null,
            "_view_module": "@jupyter-widgets/controls",
            "_view_module_version": "1.5.0",
            "_view_name": "HTMLView",
            "description": "",
            "description_tooltip": null,
            "layout": "IPY_MODEL_0e81b03c76844abe881ee1c151bab054",
            "placeholder": "​",
            "style": "IPY_MODEL_568e9cc279154ef990313d4669e5b70f",
            "value": "Predicting DataLoader 0: 100%"
          }
        },
        "cff9df886d6e4c7595b867f89d924f82": {
          "model_module": "@jupyter-widgets/controls",
          "model_module_version": "1.5.0",
          "model_name": "DescriptionStyleModel",
          "state": {
            "_model_module": "@jupyter-widgets/controls",
            "_model_module_version": "1.5.0",
            "_model_name": "DescriptionStyleModel",
            "_view_count": null,
            "_view_module": "@jupyter-widgets/base",
            "_view_module_version": "1.2.0",
            "_view_name": "StyleView",
            "description_width": ""
          }
        },
        "e1544cadf23e4dcdb3a7014c0e8a9dc4": {
          "model_module": "@jupyter-widgets/controls",
          "model_module_version": "1.5.0",
          "model_name": "HBoxModel",
          "state": {
            "_dom_classes": [],
            "_model_module": "@jupyter-widgets/controls",
            "_model_module_version": "1.5.0",
            "_model_name": "HBoxModel",
            "_view_count": null,
            "_view_module": "@jupyter-widgets/controls",
            "_view_module_version": "1.5.0",
            "_view_name": "HBoxView",
            "box_style": "",
            "children": [
              "IPY_MODEL_cda6a0508f854663a437e9ffd8136d1b",
              "IPY_MODEL_0e4c46033efc444990daa1546185f1cb",
              "IPY_MODEL_9b1843d28c5a41be97df28b3b037e953"
            ],
            "layout": "IPY_MODEL_8e3f323e57f04fb68d34b15a6a2f071a"
          }
        },
        "e8bfc85265994aae8a5447e15ff42dae": {
          "model_module": "@jupyter-widgets/base",
          "model_module_version": "1.2.0",
          "model_name": "LayoutModel",
          "state": {
            "_model_module": "@jupyter-widgets/base",
            "_model_module_version": "1.2.0",
            "_model_name": "LayoutModel",
            "_view_count": null,
            "_view_module": "@jupyter-widgets/base",
            "_view_module_version": "1.2.0",
            "_view_name": "LayoutView",
            "align_content": null,
            "align_items": null,
            "align_self": null,
            "border": null,
            "bottom": null,
            "display": null,
            "flex": "2",
            "flex_flow": null,
            "grid_area": null,
            "grid_auto_columns": null,
            "grid_auto_flow": null,
            "grid_auto_rows": null,
            "grid_column": null,
            "grid_gap": null,
            "grid_row": null,
            "grid_template_areas": null,
            "grid_template_columns": null,
            "grid_template_rows": null,
            "height": null,
            "justify_content": null,
            "justify_items": null,
            "left": null,
            "margin": null,
            "max_height": null,
            "max_width": null,
            "min_height": null,
            "min_width": null,
            "object_fit": null,
            "object_position": null,
            "order": null,
            "overflow": null,
            "overflow_x": null,
            "overflow_y": null,
            "padding": null,
            "right": null,
            "top": null,
            "visibility": null,
            "width": null
          }
        },
        "f20bfafb2a234a10aa8edb40f412e145": {
          "model_module": "@jupyter-widgets/base",
          "model_module_version": "1.2.0",
          "model_name": "LayoutModel",
          "state": {
            "_model_module": "@jupyter-widgets/base",
            "_model_module_version": "1.2.0",
            "_model_name": "LayoutModel",
            "_view_count": null,
            "_view_module": "@jupyter-widgets/base",
            "_view_module_version": "1.2.0",
            "_view_name": "LayoutView",
            "align_content": null,
            "align_items": null,
            "align_self": null,
            "border": null,
            "bottom": null,
            "display": null,
            "flex": null,
            "flex_flow": null,
            "grid_area": null,
            "grid_auto_columns": null,
            "grid_auto_flow": null,
            "grid_auto_rows": null,
            "grid_column": null,
            "grid_gap": null,
            "grid_row": null,
            "grid_template_areas": null,
            "grid_template_columns": null,
            "grid_template_rows": null,
            "height": null,
            "justify_content": null,
            "justify_items": null,
            "left": null,
            "margin": null,
            "max_height": null,
            "max_width": null,
            "min_height": null,
            "min_width": null,
            "object_fit": null,
            "object_position": null,
            "order": null,
            "overflow": null,
            "overflow_x": null,
            "overflow_y": null,
            "padding": null,
            "right": null,
            "top": null,
            "visibility": null,
            "width": null
          }
        }
      }
    }
  },
  "nbformat": 4,
  "nbformat_minor": 0
}
