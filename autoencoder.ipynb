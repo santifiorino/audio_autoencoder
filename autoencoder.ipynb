{
 "cells": [
  {
   "cell_type": "code",
   "execution_count": null,
   "metadata": {},
   "outputs": [],
   "source": [
    "# Numbers\n",
    "import numpy as np\n",
    "\n",
    "# Visualization\n",
    "import matplotlib.pyplot as plt\n",
    "from IPython.display import Image, Audio, HTML\n",
    "\n",
    "# Machine learning\n",
    "import torch\n",
    "import torchaudio.transforms as T\n",
    "from sklearn.model_selection import train_test_split\n",
    "\n",
    "# Audio\n",
    "import torchaudio\n",
    "import librosa\n",
    "import librosa.display"
   ]
  },
  {
   "cell_type": "code",
   "execution_count": null,
   "metadata": {},
   "outputs": [],
   "source": [
    "sample_rate = 22050 # Hz\n",
    "duration = 120 # seconds\n",
    "\n",
    "def format_audio(x, sr):\n",
    "    x = torch.mean(x, dim=0) # convert to mono\n",
    "    x = x[:duration*sr] # trim to duration\n",
    "    resampler = T.Resample(sr, sample_rate) # resample to 22050 Hz\n",
    "    x = resampler(x)\n",
    "    x = np.trim_zeros(x.numpy()) # trim leading and trailing zeros\n",
    "    return torch.from_numpy(x)"
   ]
  },
  {
   "cell_type": "code",
   "execution_count": null,
   "metadata": {},
   "outputs": [],
   "source": [
    "Sclip = -60\n",
    "hop_length_ms = 20\n",
    "hop_length = int(sample_rate * hop_length_ms / 1000)\n",
    "win_length = 4 * hop_length\n",
    "\n",
    "X = []\n",
    "y = []\n",
    "phases = []\n",
    "# Eventually get all the files in the folder\n",
    "x, sr = torchaudio.load(\"wavs/audio.wav\")\n",
    "x = format_audio(x, sr)\n",
    "F = torch.stft(x, n_fft=win_length, hop_length=hop_length, win_length=win_length, window=torch.hann_window(win_length), return_complex=True).T\n",
    "phases.append(torch.angle(F))\n",
    "S = 10 * torch.log10(torch.abs(F)**2)\n",
    "S = torch.clip(S, Sclip) - Sclip\n",
    "X.append(S)\n",
    "y.append(np.ones(S.shape[0])*0)\n",
    "\n",
    "phases = torch.vstack(phases)\n",
    "X = torch.vstack(X)\n",
    "X_max = torch.max(X)\n",
    "X = X / X_max\n",
    "y = np.hstack(y)"
   ]
  },
  {
   "cell_type": "code",
   "execution_count": null,
   "metadata": {},
   "outputs": [],
   "source": [
    "print('Win length:', win_length,', Hop length:', hop_length)\n",
    "print('Data shape:', X.shape)\n",
    "print('Length min:', X.shape[0]*hop_length_ms/1000/60)\n",
    "n_features = X.shape[1]"
   ]
  },
  {
   "cell_type": "code",
   "execution_count": null,
   "metadata": {},
   "outputs": [],
   "source": [
    "plt.figure(figsize=(14, 4))\n",
    "librosa.display.specshow(X.numpy().T, y_axis='linear', x_axis='time', hop_length=hop_length);"
   ]
  },
  {
   "cell_type": "code",
   "execution_count": null,
   "metadata": {},
   "outputs": [],
   "source": [
    "X_ = torch.sqrt(10**((X * X_max + Sclip) / 10)) * torch.exp(1j * phases)\n",
    "x_ = torch.istft(X_.T, n_fft=win_length, hop_length=hop_length, win_length=win_length, window=torch.hann_window(win_length), length=x.shape[0])\n",
    "plt.plot(x_.numpy())\n",
    "display(\"Original phase:\", Audio(x_.numpy(), rate=sample_rate))\n",
    "\n",
    "phases_ = np.random.rand(*X.shape)*2*np.pi\n",
    "X_ = torch.sqrt(10**((X * X_max + Sclip) / 10)) * torch.exp(1j * torch.from_numpy(phases_))\n",
    "x_ = torch.istft(X_.T, n_fft=win_length, hop_length=hop_length, win_length=win_length, window=torch.hann_window(win_length), length=x.shape[0])\n",
    "display(\"Random phase:\", Audio(x_.numpy(), rate=sample_rate))"
   ]
  },
  {
   "cell_type": "code",
   "execution_count": null,
   "metadata": {},
   "outputs": [],
   "source": [
    "X_train, X_val, y_train, y_val = train_test_split(X, y,  test_size=0.05, shuffle=True)\n",
    "print('Length mins:', X_train.shape[0]*hop_length_ms/1000/60)"
   ]
  }
 ],
 "metadata": {
  "kernelspec": {
   "display_name": "Python 3.9.13 64-bit (microsoft store)",
   "language": "python",
   "name": "python3"
  },
  "language_info": {
   "codemirror_mode": {
    "name": "ipython",
    "version": 3
   },
   "file_extension": ".py",
   "mimetype": "text/x-python",
   "name": "python",
   "nbconvert_exporter": "python",
   "pygments_lexer": "ipython3",
   "version": "3.9.13"
  },
  "orig_nbformat": 4,
  "vscode": {
   "interpreter": {
    "hash": "36d57e24ff0009f6dfff9160e88229d431cc6ed0063f5cd30ed601367525072e"
   }
  }
 },
 "nbformat": 4,
 "nbformat_minor": 2
}
